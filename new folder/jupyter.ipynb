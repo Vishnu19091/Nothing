{
 "cells": [
  {
   "cell_type": "code",
   "execution_count": null,
   "metadata": {},
   "outputs": [],
   "source": [
    "print(\"Hello Jupyter and Python!\")"
   ]
  },
  {
   "cell_type": "markdown",
   "metadata": {},
   "source": [
    "# This is a test program in Jupyter"
   ]
  },
  {
   "cell_type": "code",
   "execution_count": null,
   "metadata": {},
   "outputs": [],
   "source": [
    "import sys\n",
    "print(sys.version)"
   ]
  },
  {
   "cell_type": "markdown",
   "metadata": {},
   "source": [
    "##### for loop syntax\n",
    "```python\n",
    "for(start,stop,step)\n",
    "```"
   ]
  },
  {
   "cell_type": "code",
   "execution_count": null,
   "metadata": {},
   "outputs": [],
   "source": [
    "def gcd(m,n):\n",
    "    fm=[]\n",
    "    for i in range (1,m+1):\n",
    "        if(m%i)==0:\n",
    "         fm.append(i) \n",
    "    fn=[]\n",
    "    for j in range (1,n+1):\n",
    "        if(n%j)==0:\n",
    "            fn.append(j)\n",
    "#Adds the common numbers from both the array\n",
    "    cf=[]\n",
    "    for f in fm:\n",
    "        if f in fn:\n",
    "            cf.append(f)\n",
    "    print(\"Common Factors of m & n\",cf)\n",
    "    return (cf[-1])\n",
    "gcd(14,63)"
   ]
  },
  {
   "cell_type": "code",
   "execution_count": null,
   "metadata": {},
   "outputs": [],
   "source": [
    "def gcd(m,n):\n",
    "    \n",
    "#Checks if m and n is divisible by 'i' and adds to cf array\n",
    "    cf=[]\n",
    "    for i in range (1,min(m,n)):\n",
    "        if(m%i)==0 and (n%i) ==0:\n",
    "            cf.append(i)\n",
    "            print(cf)\n",
    "    return (cf[-1])\n",
    "gcd(14,63)"
   ]
  }
 ],
 "metadata": {
  "kernelspec": {
   "display_name": ".venv",
   "language": "python",
   "name": "python3"
  },
  "language_info": {
   "codemirror_mode": {
    "name": "ipython",
    "version": 3
   },
   "file_extension": ".py",
   "mimetype": "text/x-python",
   "name": "python",
   "nbconvert_exporter": "python",
   "pygments_lexer": "ipython3",
   "version": "3.11.9"
  }
 },
 "nbformat": 4,
 "nbformat_minor": 2
}
